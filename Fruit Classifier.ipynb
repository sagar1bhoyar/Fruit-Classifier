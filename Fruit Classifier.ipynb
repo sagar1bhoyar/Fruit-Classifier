{
 "cells": [
  {
   "cell_type": "code",
   "execution_count": null,
   "metadata": {},
   "outputs": [],
   "source": [
    "import os\n",
    "import cv2\n",
    "import numpy as np\n",
    "import matplotlib.pyplot as plt\n",
    "from glob import glob\n",
    "from tensorflow.keras import preprocessing\n",
    "import random\n",
    "import tensorflow as tf"
   ]
  },
  {
   "cell_type": "code",
   "execution_count": null,
   "metadata": {},
   "outputs": [],
   "source": [
    "class_names = ['BANANA' , 'APPLE' , 'POMOGRANTE', 'LEMON']"
   ]
  },
  {
   "cell_type": "code",
   "execution_count": null,
   "metadata": {
    "scrolled": true
   },
   "outputs": [],
   "source": [
    "camera = cv2.VideoCapture(0)\n",
    "camera_height = 800\n",
    "raw_frames_type_1 = []\n",
    "raw_frames_type_2 = []\n",
    "raw_frames_type_3 = []\n",
    "raw_frames_type_4 = []\n",
    "\n",
    "while(True):\n",
    "    _,frame = camera.read()\n",
    "    frame = cv2.flip(frame,1)\n",
    "    \n",
    "    asc = frame.shape[1]/float(frame.shape[0])\n",
    "    res = int(asc*camera_height)\n",
    "    frame = cv2.resize(frame , (res,camera_height))\n",
    "    \n",
    "    cv2.rectangle(frame, (300,175) , (650,525) , 2)\n",
    "    cv2.imshow('capturing Frames', frame)\n",
    "    \n",
    "    key = cv2.waitKey(1)\n",
    "    \n",
    "    if key & 0xFF == ord(\"q\"):\n",
    "        break\n",
    "    elif key & 0xFF == ord(\"1\"):\n",
    "        raw_frames_type_1.append(frame)\n",
    "        print('1 key pressed - saved TYPE_1 frame')\n",
    "    elif key & 0xFF == ord(\"2\"):\n",
    "        raw_frames_type_2.append(frame)\n",
    "        print('1 key pressed - saved TYPE_2 frame')\n",
    "    elif key & 0xFF == ord(\"3\"):\n",
    "        raw_frames_type_3.append(frame)\n",
    "        print('1 key pressed - saved TYPE_3 frame')\n",
    "    elif key & 0xFF == ord(\"4\"):\n",
    "        raw_frames_type_4.append(frame)\n",
    "        print('1 key pressed - saved TYPE_4 frame')\n",
    "        \n",
    "camera.release()\n",
    "cv2.destroyAllWindows()"
   ]
  },
  {
   "cell_type": "markdown",
   "metadata": {},
   "source": [
    "# Crop The frames and resize it to 399*399"
   ]
  },
  {
   "cell_type": "code",
   "execution_count": null,
   "metadata": {},
   "outputs": [],
   "source": [
    "save_height = 399\n",
    "save_width = 399"
   ]
  },
  {
   "cell_type": "code",
   "execution_count": null,
   "metadata": {},
   "outputs": [],
   "source": [
    "for i in range(1,5):\n",
    "    name = 'C:/Users/HP/Desktop/image_type_{}'.format(i)\n",
    "    os.makedirs(name , exist_ok= True)"
   ]
  },
  {
   "cell_type": "code",
   "execution_count": null,
   "metadata": {},
   "outputs": [],
   "source": [
    "for i, frame in enumerate(raw_frames_type_1):\n",
    "    roi = frame[75+2:425-2, 300+2:650-2]\n",
    "    roi = cv2.cvtColor(roi, cv2.COLOR_BGR2RGB)\n",
    "    roi = cv2.resize(roi, (save_width, save_height))\n",
    "    cv2.imwrite('C:/Users/HP/Desktop/image_type_1/{}.jpg'.format(i), cv2.cvtColor(roi,cv2.COLOR_BGR2RGB))"
   ]
  },
  {
   "cell_type": "code",
   "execution_count": null,
   "metadata": {},
   "outputs": [],
   "source": [
    "for i, frame in enumerate(raw_frames_type_2):\n",
    "    roi = frame[75+2:425-2, 300+2:650-2]\n",
    "    roi = cv2.cvtColor(roi, cv2.COLOR_BGR2RGB)\n",
    "    roi = cv2.resize(roi, (save_width, save_height))\n",
    "    cv2.imwrite('C:/Users/HP/Desktop/image_type_2/{}.jpg'.format(i), cv2.cvtColor(roi,cv2.COLOR_BGR2RGB))"
   ]
  },
  {
   "cell_type": "code",
   "execution_count": null,
   "metadata": {},
   "outputs": [],
   "source": [
    "for i, frame in enumerate(raw_frames_type_3):\n",
    "    roi = frame[75+2:425-2, 300+2:650-2]\n",
    "    roi = cv2.cvtColor(roi, cv2.COLOR_BGR2RGB)\n",
    "    roi = cv2.resize(roi, (save_width, save_height))\n",
    "    cv2.imwrite('C:/Users/HP/Desktop/image_type_3/{}.jpg'.format(i), cv2.cvtColor(roi,cv2.COLOR_BGR2RGB))"
   ]
  },
  {
   "cell_type": "code",
   "execution_count": null,
   "metadata": {},
   "outputs": [],
   "source": [
    "for i, frame in enumerate(raw_frames_type_4):\n",
    "    roi = frame[75+2:425-2, 300+2:650-2]\n",
    "    roi = cv2.cvtColor(roi, cv2.COLOR_BGR2RGB)\n",
    "    roi = cv2.resize(roi, (save_width, save_height))\n",
    "    cv2.imwrite('C:/Users/HP/Desktop/image_type_4/{}.jpg'.format(i), cv2.cvtColor(roi,cv2.COLOR_BGR2RGB))"
   ]
  },
  {
   "cell_type": "markdown",
   "metadata": {},
   "source": [
    "# Loading The Model"
   ]
  },
  {
   "cell_type": "code",
   "execution_count": null,
   "metadata": {},
   "outputs": [],
   "source": [
    "width = 96\n",
    "height = 96"
   ]
  },
  {
   "cell_type": "code",
   "execution_count": null,
   "metadata": {},
   "outputs": [],
   "source": [
    "def load_images(base_path):\n",
    "    images = []\n",
    "    path = os.path.join(base_path , '*jpg')\n",
    "    for image_path in glob(path):\n",
    "        image = preprocessing.image.load_img(image_path , target_size=(width,height))\n",
    "        x = preprocessing.image.img_to_array(image)\n",
    "        images.append(x)\n",
    "        \n",
    "    return images"
   ]
  },
  {
   "cell_type": "code",
   "execution_count": null,
   "metadata": {},
   "outputs": [],
   "source": [
    "images_type_1 = load_images('C:/Users/HP/Desktop/image_type_1')\n",
    "images_type_2 = load_images('C:/Users/HP/Desktop/image_type_2')\n",
    "images_type_3 = load_images('C:/Users/HP/Desktop/image_type_3')\n",
    "images_type_4 = load_images('C:/Users/HP/Desktop/image_type_4')"
   ]
  },
  {
   "cell_type": "code",
   "execution_count": null,
   "metadata": {},
   "outputs": [],
   "source": [
    "X_type_1 = np.array(images_type_1)\n",
    "X_type_2 = np.array(images_type_1)\n",
    "X_type_3 = np.array(images_type_1)\n",
    "X_type_4 = np.array(images_type_1)\n",
    "\n",
    "X_type_1.shape"
   ]
  },
  {
   "cell_type": "code",
   "execution_count": null,
   "metadata": {},
   "outputs": [],
   "source": [
    "X = np.concatenate((X_type_1, X_type_2, X_type_3, X_type_4), axis=0)"
   ]
  },
  {
   "cell_type": "code",
   "execution_count": null,
   "metadata": {},
   "outputs": [],
   "source": [
    "X = X / 255.0\n",
    "X.shape"
   ]
  },
  {
   "cell_type": "code",
   "execution_count": null,
   "metadata": {},
   "outputs": [],
   "source": [
    "from tensorflow.keras.utils import to_categorical\n",
    "\n",
    "Y_type_1 = [0 for item in enumerate(X_type_1)]\n",
    "Y_type_2 = [1 for item in enumerate(X_type_2)]\n",
    "Y_type_3 = [2 for item in enumerate(X_type_3)]\n",
    "Y_type_4 = [3 for item in enumerate(X_type_4)]\n",
    "\n",
    "Y = np.concatenate((Y_type_1, Y_type_2, Y_type_3, Y_type_4), axis=0)\n",
    "\n",
    "Y = to_categorical(Y, num_classes = len(class_names))\n",
    "\n",
    "Y.shape"
   ]
  },
  {
   "cell_type": "markdown",
   "metadata": {},
   "source": [
    "# Convolution Neural Network"
   ]
  },
  {
   "cell_type": "code",
   "execution_count": null,
   "metadata": {},
   "outputs": [],
   "source": [
    "from tensorflow.keras.layers import Activation, Dropout, Flatten, Dense \n",
    "from tensorflow.keras.layers import Convolution2D, MaxPooling2D\n",
    "from tensorflow.keras.optimizers import Adam\n",
    "from tensorflow.keras.models import Sequential\n",
    "from tensorflow.keras import regularizers\n",
    "\n",
    "conv_1 = 16\n",
    "conv_1_drop = 0.2\n",
    "conv_2 = 32\n",
    "conv_2_drop = 0.2\n",
    "dense_1_n = 1024\n",
    "dense_1_drop = 0.2\n",
    "dense_2_n = 512\n",
    "dense_2_drop = 0.2\n",
    "lr = 0.01\n",
    "\n",
    "epochs = 30\n",
    "#batch_size = 32\n",
    "color_channels = 3\n",
    "\n",
    "def build_model(conv_1_drop=conv_1_drop, conv_2_drop=conv_2_drop,\n",
    "                dense_1_n=dense_1_n, dense_1_drop=dense_1_drop,\n",
    "                dense_2_n=dense_2_n, dense_2_drop=dense_2_drop,\n",
    "                lr=lr):\n",
    "    model = Sequential()\n",
    "\n",
    "    model.add(Convolution2D(conv_1, (3, 3),\n",
    "                            input_shape=(width, height, color_channels),\n",
    "                            activation='relu'))\n",
    "    model.add(MaxPooling2D(pool_size=(2, 2)))\n",
    "    model.add(Dropout(conv_1_drop))\n",
    "\n",
    "    model.add(Convolution2D(conv_2, (3, 3), activation='relu'))\n",
    "    model.add(MaxPooling2D(pool_size=(2, 2)))\n",
    "    model.add(Dropout(conv_2_drop))\n",
    "        \n",
    "    model.add(Flatten())\n",
    "        \n",
    "    model.add(Dense(dense_1_n, kernel_regularizer=regularizers.l2(0.001),  activation='relu'))\n",
    "    model.add(Dropout(dense_1_drop))\n",
    "\n",
    "    model.add(Dense(dense_2_n, activation='relu'))\n",
    "    model.add(Dropout(dense_2_drop))\n",
    "\n",
    "    model.add(Dense(len(class_names), activation='sigmoid'))\n",
    "\n",
    "    model.compile(loss='categorical_crossentropy',\n",
    "                  optimizer=Adam(lr=lr),\n",
    "                  metrics=['accuracy'])\n",
    "\n",
    "    return model\n"
   ]
  },
  {
   "cell_type": "code",
   "execution_count": null,
   "metadata": {},
   "outputs": [],
   "source": [
    "import numpy as np\n",
    "np.random.seed(1)\n",
    "model = build_model()\n",
    "model.summary()"
   ]
  },
  {
   "cell_type": "code",
   "execution_count": null,
   "metadata": {},
   "outputs": [],
   "source": [
    "epochs = 20\n",
    "model.fit(X,Y,epochs = epochs)"
   ]
  },
  {
   "cell_type": "code",
   "execution_count": null,
   "metadata": {
    "scrolled": false
   },
   "outputs": [],
   "source": [
    "import time \n",
    "\n",
    "# get the reference to the webcam\n",
    "camera = cv2.VideoCapture(0)\n",
    "camera_height = 500\n",
    "\n",
    "while(True):\n",
    "    # read a new frame\n",
    "    _, frame = camera.read()\n",
    "    \n",
    "    # flip the frameq\n",
    "    frame = cv2.flip(frame, 1)\n",
    "\n",
    "    # rescaling camera output\n",
    "    aspect = frame.shape[1] / float(frame.shape[0])\n",
    "    res = int(aspect * camera_height) # landscape orientation - wide image\n",
    "    frame = cv2.resize(frame, (res, camera_height))\n",
    "\n",
    "    # add rectangle\n",
    "    cv2.rectangle(frame, (300, 75), (650, 425), (240, 100, 0), 2)\n",
    "\n",
    "    # get ROI\n",
    "    roi = frame[75+2:425-2, 300+2:650-2]\n",
    "    \n",
    "    # parse BRG to RGB\n",
    "    roi = cv2.cvtColor(roi, cv2.COLOR_BGR2RGB)\n",
    "\n",
    "    # resize\n",
    "    roi = cv2.resize(roi, (width, height))\n",
    "    \n",
    "    # predict!\n",
    "    roi_X = np.expand_dims(roi, axis=0)\n",
    "    type(roi_X)\n",
    "    roi_X = tf.cast(roi_X , tf.float16)\n",
    "    predictions = model.predict(roi_X)\n",
    "    type_1_pred, type_2_pred, type_3_pred, type_4_pred = predictions[0]\n",
    "\n",
    "    # add text\n",
    "    type_1_text = '{}: {}%'.format(class_names[0], int(type_1_pred*100))\n",
    "    cv2.putText(frame, type_1_text, (70, 170), \n",
    "                cv2.FONT_HERSHEY_SIMPLEX, 0.6, (240, 240, 240), 2)\n",
    "\n",
    "    # add text\n",
    "    tipe_2_text = '{}: {}%'.format(class_names[1], int(type_2_pred*100))\n",
    "    cv2.putText(frame, tipe_2_text, (70, 200), \n",
    "                cv2.FONT_HERSHEY_SIMPLEX, 0.6, (240, 240, 240), 2)\n",
    "\n",
    "    \n",
    "    # add text\n",
    "    tipe_3_text = '{}: {}%'.format(class_names[2], int(type_3_pred*100))\n",
    "    cv2.putText(frame, tipe_3_text, (70, 230), \n",
    "                cv2.FONT_HERSHEY_SIMPLEX, 0.6, (240, 240, 240), 2)\n",
    "\n",
    "    # add text\n",
    "    tipe_4_text = '{}: {}%'.format(class_names[3], int(type_4_pred*100))\n",
    "    cv2.putText(frame, tipe_4_text, (70, 260), \n",
    "                cv2.FONT_HERSHEY_SIMPLEX, 0.6, (240, 240, 240), 2)\n",
    "\n",
    "    # show the frame\n",
    "    cv2.imshow(\"Test out\", frame)\n",
    "\n",
    "    key = cv2.waitKey(1)\n",
    "\n",
    "    # quit camera if 'q' key is pressed\n",
    "    if key & 0xFF == ord(\"q\"):\n",
    "        break\n",
    "    \n",
    "camera.release()\n",
    "cv2.destroyAllWindows()"
   ]
  },
  {
   "cell_type": "code",
   "execution_count": null,
   "metadata": {},
   "outputs": [],
   "source": [
    "model.summary()"
   ]
  }
 ],
 "metadata": {
  "kernelspec": {
   "display_name": "Python 3",
   "language": "python",
   "name": "python3"
  },
  "language_info": {
   "codemirror_mode": {
    "name": "ipython",
    "version": 3
   },
   "file_extension": ".py",
   "mimetype": "text/x-python",
   "name": "python",
   "nbconvert_exporter": "python",
   "pygments_lexer": "ipython3",
   "version": "3.7.1"
  }
 },
 "nbformat": 4,
 "nbformat_minor": 2
}
